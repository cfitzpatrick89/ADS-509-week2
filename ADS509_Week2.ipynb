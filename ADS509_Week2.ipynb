{
 "cells": [
  {
   "cell_type": "markdown",
   "id": "7f79baf9",
   "metadata": {},
   "source": [
    "# ADS 509 Assignment 2.1: Tokenization, Normalization, Descriptive Statistics \n",
    "\n",
    "This notebook holds Assignment 2.1 for Module 2 in ADS 509, Applied Text Mining. Work through this notebook, writing code and answering questions where required. \n",
    "\n",
    "In the previous assignment you pulled lyrics data on two artists. In this assignment we explore this data set and a pull from the now-defunct Twitter API for the artists Cher and Robyn.  If, for some reason, you did not complete that previous assignment, data to use for this assignment can be found in the assignment materials section of Canvas. \n",
    "\n",
    "This assignment asks you to write a short function to calculate some descriptive statistics on a piece of text. Then you are asked to find some interesting and unique statistics on your corpora. \n"
   ]
  },
  {
   "cell_type": "markdown",
   "id": "aae8e2e1",
   "metadata": {},
   "source": [
    "## General Assignment Instructions\n",
    "\n",
    "These instructions are included in every assignment, to remind you of the coding standards for the class. Feel free to delete this cell after reading it. \n",
    "\n",
    "One sign of mature code is conforming to a style guide. We recommend the [Google Python Style Guide](https://google.github.io/styleguide/pyguide.html). If you use a different style guide, please include a cell with a link. \n",
    "\n",
    "Your code should be relatively easy-to-read, sensibly commented, and clean. Writing code is a messy process, so please be sure to edit your final submission. Remove any cells that are not needed or parts of cells that contain unnecessary code. Remove inessential `import` statements and make sure that all such statements are moved into the designated cell. \n",
    "\n",
    "Make use of non-code cells for written commentary. These cells should be grammatical and clearly written. In some of these cells you will have questions to answer. The questions will be marked by a \"Q:\" and will have a corresponding \"A:\" spot for you. *Make sure to answer every question marked with a `Q:` for full credit.* \n"
   ]
  },
  {
   "cell_type": "markdown",
   "id": "fd075bd4",
   "metadata": {},
   "source": [
    "### Conor Fitzpatrick "
   ]
  },
  {
   "cell_type": "code",
   "execution_count": 3,
   "id": "e2d096b7",
   "metadata": {},
   "outputs": [
    {
     "name": "stderr",
     "output_type": "stream",
     "text": [
      "/Users/cfitzpatrick/opt/anaconda3/lib/python3.9/site-packages/pandas/core/computation/expressions.py:21: UserWarning: Pandas requires version '2.8.4' or newer of 'numexpr' (version '2.7.3' currently installed).\n",
      "  from pandas.core.computation.check import NUMEXPR_INSTALLED\n",
      "/Users/cfitzpatrick/opt/anaconda3/lib/python3.9/site-packages/pandas/core/arrays/masked.py:60: UserWarning: Pandas requires version '1.3.6' or newer of 'bottleneck' (version '1.3.2' currently installed).\n",
      "  from pandas.core import (\n",
      "/Users/cfitzpatrick/opt/anaconda3/lib/python3.9/site-packages/scipy/__init__.py:146: UserWarning: A NumPy version >=1.16.5 and <1.23.0 is required for this version of SciPy (detected version 1.24.4\n",
      "  warnings.warn(f\"A NumPy version >={np_minversion} and <{np_maxversion}\"\n"
     ]
    }
   ],
   "source": [
    "import os\n",
    "import re\n",
    "import emoji\n",
    "import pandas as pd\n",
    "import numpy as np\n",
    "\n",
    "from collections import Counter, defaultdict\n",
    "from nltk.corpus import stopwords\n",
    "from string import punctuation\n",
    "\n",
    "sw = stopwords.words(\"english\")"
   ]
  },
  {
   "cell_type": "code",
   "execution_count": 2,
   "id": "d800747a",
   "metadata": {},
   "outputs": [
    {
     "name": "stdout",
     "output_type": "stream",
     "text": [
      "Collecting emoji\n",
      "  Downloading emoji-2.11.1-py2.py3-none-any.whl (433 kB)\n",
      "\u001b[K     |████████████████████████████████| 433 kB 3.7 MB/s eta 0:00:01\n",
      "\u001b[?25hInstalling collected packages: emoji\n",
      "Successfully installed emoji-2.11.1\n",
      "Note: you may need to restart the kernel to use updated packages.\n"
     ]
    }
   ],
   "source": [
    "pip install emoji"
   ]
  },
  {
   "cell_type": "code",
   "execution_count": 63,
   "id": "6b555ab2",
   "metadata": {},
   "outputs": [],
   "source": [
    "# Add any additional import statements you need here\n",
    "\n",
    "import nltk\n",
    "import string\n",
    "import pandas as pd\n",
    "from nltk.corpus import stopwords\n",
    "import re"
   ]
  },
  {
   "cell_type": "code",
   "execution_count": 23,
   "id": "923b5a86",
   "metadata": {},
   "outputs": [],
   "source": [
    "# change `data_location` to the location of the folder on your machine.\n",
    "data_location = \"/Users/cfitzpatrick/Downloads/M1 Results\"\n",
    "\n",
    "\n",
    "twitter_folder = os.path.join(data_location, \"twitter/\")\n",
    "lyrics_folder = os.path.join(data_location, \"lyrics/\")\n",
    "\n",
    "# # These subfolders should still work if you correctly stored the \n",
    "# # data from the Module 1 assignment\n",
    "# twitter_folder = \"twitter/\"\n",
    "# lyrics_folder = \"lyrics/\""
   ]
  },
  {
   "cell_type": "code",
   "execution_count": 25,
   "id": "33623357",
   "metadata": {},
   "outputs": [],
   "source": [
    "def descriptive_stats(tokens, num_tokens=5, verbose=True):\n",
    "    \"\"\"\n",
    "    Given a list of tokens, print number of tokens, number of unique tokens, \n",
    "    number of characters, lexical diversity (https://en.wikipedia.org/wiki/Lexical_diversity), \n",
    "    and num_tokens most common tokens. Return a list with the number of tokens, number\n",
    "    of unique tokens, lexical diversity, and number of characters. \n",
    "    \"\"\"\n",
    "# Function for the descriptive stats\n",
    "def descriptive_stats(tokens_list, num_common=10):\n",
    "    # Flatten the list of lists into a single list of tokens\n",
    "    all_tokens = [token for sublist in tokens_list for token in sublist]\n",
    "    \n",
    "    # Calculate\n",
    "    num_tokens = len(all_tokens)\n",
    "    unique_tokens = set(all_tokens)\n",
    "    num_unique_tokens = len(unique_tokens)\n",
    "    num_characters = sum(len(token) for token in all_tokens)\n",
    "    lexical_diversity = num_unique_tokens / num_tokens if num_tokens else 0\n",
    "    \n",
    "    # Most common tokEns \n",
    "    most_common_tokens = Counter(all_tokens).most_common(num_common)\n",
    "    \n",
    "    # Print the statistics\n",
    "    print(f\"Number of tokens: {num_tokens}\")\n",
    "    print(f\"Number of unique tokens: {num_unique_tokens}\")\n",
    "    print(f\"Number of characters: {num_characters}\")\n",
    "    print(f\"Lexical diversity: {lexical_diversity:.2f}\")\n",
    "    print(f\"Most common tokens: {most_common_tokens}\")\n",
    "    \n",
    "    # Return the statistics as a list\n",
    "    return [num_tokens, num_unique_tokens, lexical_diversity, num_characters]\n"
   ]
  },
  {
   "cell_type": "code",
   "execution_count": 26,
   "id": "59dcf058",
   "metadata": {},
   "outputs": [
    {
     "name": "stdout",
     "output_type": "stream",
     "text": [
      "There are 13 tokens in the data.\n",
      "There are 9 unique tokens in the data.\n",
      "There are 55 characters in the data.\n",
      "The lexical diversity is 0.692 in the data.\n",
      "The 13 most common tokens are: [('text', 3), ('here', 2), ('example', 2), ('is', 1), ('some', 1), ('with', 1), ('other', 1), ('in', 1), ('this', 1)]\n"
     ]
    }
   ],
   "source": [
    "text = \"\"\"here is some example text with other example text here in this text\"\"\".split()\n",
    "assert(descriptive_stats(text, verbose=True)[0] == 13)\n",
    "assert(descriptive_stats(text, verbose=False)[1] == 9)\n",
    "assert(abs(descriptive_stats(text, verbose=False)[2] - 0.69) < 0.02)\n",
    "assert(descriptive_stats(text, verbose=False)[3] == 55)\n"
   ]
  },
  {
   "cell_type": "markdown",
   "id": "d2e7e1a2",
   "metadata": {},
   "source": [
    "Q: Why is it beneficial to use assertion statements in your code? \n",
    "\n",
    "A: Assertion statements are beneficial for a number of reasons including detecting errors and logical issues, which can signify a bug. They are great for helping you debug problems and better document everything you are doing. "
   ]
  },
  {
   "cell_type": "markdown",
   "id": "9d3bf93e",
   "metadata": {},
   "source": [
    "## Data Input\n",
    "\n",
    "Now read in each of the corpora. For the lyrics data, it may be convenient to store the entire contents of the file to make it easier to inspect the titles individually, as you'll do in the last part of the assignment. In the solution, I stored the lyrics data in a dictionary with two dimensions of keys: artist and song. The value was the file contents. A data frame would work equally well. \n",
    "\n",
    "For the Twitter data, we only need the description field for this assignment. Feel free all the descriptions read it into a data structure. In the solution, I stored the descriptions as a dictionary of lists, with the key being the artist. \n",
    "\n",
    "\n"
   ]
  },
  {
   "cell_type": "code",
   "execution_count": 28,
   "id": "37d70801",
   "metadata": {},
   "outputs": [],
   "source": [
    "# Read in the lyrics data\n",
    "\n",
    "import os\n",
    "\n",
    "def load_lyrics_data(folder_path):\n",
    "    lyrics_data = {}\n",
    "    for artist_folder in os.listdir(folder_path):\n",
    "        artist_path = os.path.join(folder_path, artist_folder)\n",
    "        if os.path.isdir(artist_path):\n",
    "            lyrics_data[artist_folder] = {}\n",
    "            for file_name in os.listdir(artist_path):\n",
    "                song_title = file_name.split('.')[0]\n",
    "                with open(os.path.join(artist_path, file_name), 'r', encoding='utf-8') as file:\n",
    "                    lyrics_data[artist_folder][song_title] = file.read()\n",
    "    return lyrics_data\n",
    "\n",
    "lyrics_folder = \"/Users/cfitzpatrick/Downloads/M1 Results/lyrics/\"\n",
    "lyrics_data = load_lyrics_data(lyrics_folder)\n"
   ]
  },
  {
   "cell_type": "code",
   "execution_count": null,
   "id": "e3a0a520",
   "metadata": {},
   "outputs": [],
   "source": [
    "# Read in twitter data"
   ]
  },
  {
   "cell_type": "code",
   "execution_count": 95,
   "id": "7e5036d8",
   "metadata": {},
   "outputs": [
    {
     "name": "stdout",
     "output_type": "stream",
     "text": [
      "Descriptions for cher:\n",
      "𝙿𝚛𝚘𝚞𝚍 𝚜𝚞𝚙𝚙𝚘𝚛𝚝𝚎𝚛 𝚘𝚏 𝚖𝚎𝚜𝚜𝚢 𝚋𝚞𝚗𝚜 & 𝚕𝚎𝚐𝚐𝚒𝚗𝚐𝚜\n",
      "163㎝／愛かっぷ💜26歳🍒 工〇好きな女の子💓 フォローしてくれたらDMします🧡\n",
      "csu\n",
      "Writer @Washinformer @SpelmanCollege alumna #DCnative Award-winning journalist & PR pro @IABC Fellow & Past Chair IG: bcscomm Email: wibsiler@gmail.com\n",
      "I’m unemployed and live with my parents. MOOPS!\n",
      "Descriptions for robynkonichiwa:\n",
      "\"I love chill\" •Facebook / Instagram / SoundCloud: AngelxoArts• https://t.co/447okKLKzA…\n",
      "books, movies, music, nature & TV shows. OG Sweetee since '12 thanks to YouTube recommending 'This Feeling' on my homepage ♥️\n",
      "(Am)auteur en herbe 🌱 - juriste en paille 🤡 - Ami des fleurs 🌸🌈 (sans la main verte) - music & books - #morecomingsoon... (si on en voit le bout)\n",
      "This Twitter profile is full of sarcasm and rants with the occasional moan, dont like me dont follow me! KLF Stan Account Aspiring Youth Council rep\n",
      "Flora Youssef - Blogger & Founder Posting review articles about the latest music 🎵 https://t.co/dx4hoIom7T https://t.co/KsplT6mZzs\n"
     ]
    }
   ],
   "source": [
    "# Take out the descriptions and store in a dict \n",
    "def extract_descriptions(folder_path, file_names):\n",
    "    descriptions_dict = {}\n",
    "    for file_name in file_names:\n",
    "        artist = file_name.split('_')[0]  \n",
    "        descriptions = []\n",
    "        file_path = os.path.join(folder_path, file_name)\n",
    "        with open(file_path, 'r', encoding='utf-8', errors='ignore') as file:\n",
    "            next(file)  # Skip the header line\n",
    "            for line in file:\n",
    "                parts = line.strip().split('\\t')\n",
    "                if len(parts) > 6:  # Ensure there's a description field\n",
    "                    descriptions.append(parts[6])\n",
    "        descriptions_dict[artist] = descriptions\n",
    "    return descriptions_dict\n",
    "\n",
    "# location of the Twitter data folder and the specific files\n",
    "twitter_folder = \"/Users/cfitzpatrick/Downloads/M1 Results/twitter/\"\n",
    "file_names = [\"cher_followers_data.txt\", \"robynkonichiwa_followers_data.txt\"]\n",
    "\n",
    "# Store ina dict\n",
    "descriptions_dict = extract_descriptions(twitter_folder, file_names)\n",
    "\n",
    "# Print the descriptions \n",
    "for artist, descriptions in descriptions_dict.items():\n",
    "    print(f\"Descriptions for {artist}:\")\n",
    "    for description in descriptions[:5]:  # Print the first 5 descriptions for inspection\n",
    "        print(description)"
   ]
  },
  {
   "cell_type": "code",
   "execution_count": null,
   "id": "403b2f41",
   "metadata": {},
   "outputs": [],
   "source": []
  },
  {
   "cell_type": "markdown",
   "id": "6a5f3b12",
   "metadata": {},
   "source": [
    "## Data Cleaning\n",
    "\n",
    "Now clean and tokenize your data. Remove punctuation chacters (available in the `punctuation` object in the `string` library), split on whitespace, fold to lowercase, and remove stopwords. Store your cleaned data, which must be accessible as an interable for `descriptive_stats`, in new objects or in new columns in your data frame. \n",
    "\n"
   ]
  },
  {
   "cell_type": "code",
   "execution_count": 96,
   "id": "1ea87921",
   "metadata": {},
   "outputs": [
    {
     "name": "stderr",
     "output_type": "stream",
     "text": [
      "[nltk_data] Downloading package stopwords to\n",
      "[nltk_data]     /Users/cfitzpatrick/nltk_data...\n",
      "[nltk_data]   Package stopwords is already up-to-date!\n"
     ]
    }
   ],
   "source": [
    "import nltk\n",
    "nltk.download('stopwords')\n",
    "\n",
    "# Punctuation and stopwords to use\n",
    "punctuation = set(string.punctuation)\n",
    "stop_words = set(nltk.corpus.stopwords.words('english'))"
   ]
  },
  {
   "cell_type": "code",
   "execution_count": 113,
   "id": "71c73d86",
   "metadata": {},
   "outputs": [],
   "source": [
    "# Here we remove the punctuation\n",
    "def remove_punctuation(text):\n",
    "    return ''.join(char for char in text if char not in punctuation)\n",
    "\n",
    "# split on whitespace to tokenize\n",
    "def tokenize(text):\n",
    "    return text.split()\n",
    "\n",
    "# Eliminate stopwords\n",
    "def remove_stop(tokens):\n",
    "    return [token for token in tokens if token not in stop_words]\n",
    "\n",
    "# Transformation pipeline\n",
    "def transform(text):\n",
    "    # Lowercase the entire text using casefold\n",
    "    text = text.casefold()\n",
    "    # Remove punctuation\n",
    "    text = remove_punctuation(text)\n",
    "    # Tokenize text using regex to split by word boundaries\n",
    "    tokens = re.findall(r'\\b\\w+\\b', text)\n",
    "    # Remove stopwords\n",
    "    tokens = remove_stop(tokens)\n",
    "    return tokens"
   ]
  },
  {
   "cell_type": "code",
   "execution_count": null,
   "id": "f47a42d9",
   "metadata": {},
   "outputs": [],
   "source": []
  },
  {
   "cell_type": "markdown",
   "id": "bf9aca94",
   "metadata": {},
   "source": [
    "### Clean Twitter data"
   ]
  },
  {
   "cell_type": "code",
   "execution_count": 114,
   "id": "b47e9ecb",
   "metadata": {},
   "outputs": [],
   "source": [
    "# Combine descriptions from both artists into a single list of dictionaries\n",
    "combined_descriptions = []\n",
    "for artist, descriptions in descriptions_dict.items():\n",
    "    for description in descriptions:\n",
    "        combined_descriptions.append({'artist': artist, 'description': description})\n",
    "\n",
    "# Convert the combined descriptions to a DataFrame\n",
    "descriptions_df = pd.DataFrame(combined_descriptions)\n",
    "\n",
    "# Apply the cleaning function to the 'description' column using transform\n",
    "descriptions_df['cleaned_description'] = descriptions_df['description'].apply(transform)\n"
   ]
  },
  {
   "cell_type": "code",
   "execution_count": 115,
   "id": "0abdfa7b",
   "metadata": {},
   "outputs": [
    {
     "data": {
      "text/html": [
       "<div>\n",
       "<style scoped>\n",
       "    .dataframe tbody tr th:only-of-type {\n",
       "        vertical-align: middle;\n",
       "    }\n",
       "\n",
       "    .dataframe tbody tr th {\n",
       "        vertical-align: top;\n",
       "    }\n",
       "\n",
       "    .dataframe thead th {\n",
       "        text-align: right;\n",
       "    }\n",
       "</style>\n",
       "<table border=\"1\" class=\"dataframe\">\n",
       "  <thead>\n",
       "    <tr style=\"text-align: right;\">\n",
       "      <th></th>\n",
       "      <th>artist</th>\n",
       "      <th>description</th>\n",
       "      <th>cleaned_description</th>\n",
       "    </tr>\n",
       "  </thead>\n",
       "  <tbody>\n",
       "    <tr>\n",
       "      <th>0</th>\n",
       "      <td>cher</td>\n",
       "      <td>𝙿𝚛𝚘𝚞𝚍 𝚜𝚞𝚙𝚙𝚘𝚛𝚝𝚎𝚛 𝚘𝚏 𝚖𝚎𝚜𝚜𝚢 𝚋𝚞𝚗𝚜 &amp; 𝚕𝚎𝚐𝚐𝚒𝚗𝚐𝚜</td>\n",
       "      <td>[𝙿𝚛𝚘𝚞𝚍, 𝚜𝚞𝚙𝚙𝚘𝚛𝚝𝚎𝚛, 𝚘𝚏, 𝚖𝚎𝚜𝚜𝚢, 𝚋𝚞𝚗𝚜, 𝚕𝚎𝚐𝚐𝚒𝚗𝚐𝚜]</td>\n",
       "    </tr>\n",
       "    <tr>\n",
       "      <th>1</th>\n",
       "      <td>cher</td>\n",
       "      <td>163㎝／愛かっぷ💜26歳🍒 工〇好きな女の子💓 フォローしてくれたらDMします🧡</td>\n",
       "      <td>[163, 愛かっぷ, 26歳, 工〇好きな女の子, フォローしてくれたらdmします]</td>\n",
       "    </tr>\n",
       "    <tr>\n",
       "      <th>2</th>\n",
       "      <td>cher</td>\n",
       "      <td>csu</td>\n",
       "      <td>[csu]</td>\n",
       "    </tr>\n",
       "    <tr>\n",
       "      <th>3</th>\n",
       "      <td>cher</td>\n",
       "      <td>Writer @Washinformer @SpelmanCollege alumna #D...</td>\n",
       "      <td>[writer, washinformer, spelmancollege, alumna,...</td>\n",
       "    </tr>\n",
       "    <tr>\n",
       "      <th>4</th>\n",
       "      <td>cher</td>\n",
       "      <td>I’m unemployed and live with my parents. MOOPS!</td>\n",
       "      <td>[unemployed, live, parents, moops]</td>\n",
       "    </tr>\n",
       "    <tr>\n",
       "      <th>...</th>\n",
       "      <td>...</td>\n",
       "      <td>...</td>\n",
       "      <td>...</td>\n",
       "    </tr>\n",
       "    <tr>\n",
       "      <th>2191118</th>\n",
       "      <td>robynkonichiwa</td>\n",
       "      <td>singer of songs, type 1 diabetic, tired $jakel...</td>\n",
       "      <td>[singer, songs, type, 1, diabetic, tired, jake...</td>\n",
       "    </tr>\n",
       "    <tr>\n",
       "      <th>2191119</th>\n",
       "      <td>robynkonichiwa</td>\n",
       "      <td>Dadx2/ Con-Arch/ Photographer/ DK #stemgrønnes...</td>\n",
       "      <td>[dadx2, conarch, photographer, dk, stemgrønnes...</td>\n",
       "    </tr>\n",
       "    <tr>\n",
       "      <th>2191120</th>\n",
       "      <td>robynkonichiwa</td>\n",
       "      <td>A year to change a life is still a year ✨😌</td>\n",
       "      <td>[year, change, life, still, year]</td>\n",
       "    </tr>\n",
       "    <tr>\n",
       "      <th>2191121</th>\n",
       "      <td>robynkonichiwa</td>\n",
       "      <td>Head of Consumer - Mango. Made in Melbourne. R...</td>\n",
       "      <td>[head, consumer, mango, made, melbourne, rambl...</td>\n",
       "    </tr>\n",
       "    <tr>\n",
       "      <th>2191122</th>\n",
       "      <td>robynkonichiwa</td>\n",
       "      <td>Stand for what is right, even if you stand alone.</td>\n",
       "      <td>[stand, right, even, stand, alone]</td>\n",
       "    </tr>\n",
       "  </tbody>\n",
       "</table>\n",
       "<p>2191123 rows × 3 columns</p>\n",
       "</div>"
      ],
      "text/plain": [
       "                 artist                                        description  \\\n",
       "0                  cher           𝙿𝚛𝚘𝚞𝚍 𝚜𝚞𝚙𝚙𝚘𝚛𝚝𝚎𝚛 𝚘𝚏 𝚖𝚎𝚜𝚜𝚢 𝚋𝚞𝚗𝚜 & 𝚕𝚎𝚐𝚐𝚒𝚗𝚐𝚜   \n",
       "1                  cher          163㎝／愛かっぷ💜26歳🍒 工〇好きな女の子💓 フォローしてくれたらDMします🧡   \n",
       "2                  cher                                                csu   \n",
       "3                  cher  Writer @Washinformer @SpelmanCollege alumna #D...   \n",
       "4                  cher    I’m unemployed and live with my parents. MOOPS!   \n",
       "...                 ...                                                ...   \n",
       "2191118  robynkonichiwa  singer of songs, type 1 diabetic, tired $jakel...   \n",
       "2191119  robynkonichiwa  Dadx2/ Con-Arch/ Photographer/ DK #stemgrønnes...   \n",
       "2191120  robynkonichiwa         A year to change a life is still a year ✨😌   \n",
       "2191121  robynkonichiwa  Head of Consumer - Mango. Made in Melbourne. R...   \n",
       "2191122  robynkonichiwa  Stand for what is right, even if you stand alone.   \n",
       "\n",
       "                                       cleaned_description  \n",
       "0            [𝙿𝚛𝚘𝚞𝚍, 𝚜𝚞𝚙𝚙𝚘𝚛𝚝𝚎𝚛, 𝚘𝚏, 𝚖𝚎𝚜𝚜𝚢, 𝚋𝚞𝚗𝚜, 𝚕𝚎𝚐𝚐𝚒𝚗𝚐𝚜]  \n",
       "1              [163, 愛かっぷ, 26歳, 工〇好きな女の子, フォローしてくれたらdmします]  \n",
       "2                                                    [csu]  \n",
       "3        [writer, washinformer, spelmancollege, alumna,...  \n",
       "4                       [unemployed, live, parents, moops]  \n",
       "...                                                    ...  \n",
       "2191118  [singer, songs, type, 1, diabetic, tired, jake...  \n",
       "2191119  [dadx2, conarch, photographer, dk, stemgrønnes...  \n",
       "2191120                  [year, change, life, still, year]  \n",
       "2191121  [head, consumer, mango, made, melbourne, rambl...  \n",
       "2191122                 [stand, right, even, stand, alone]  \n",
       "\n",
       "[2191123 rows x 3 columns]"
      ]
     },
     "execution_count": 115,
     "metadata": {},
     "output_type": "execute_result"
    }
   ],
   "source": [
    "descriptions_df"
   ]
  },
  {
   "cell_type": "markdown",
   "id": "922f413e",
   "metadata": {},
   "source": [
    "### Clean Lyrics data"
   ]
  },
  {
   "cell_type": "code",
   "execution_count": 123,
   "id": "e8d7e529",
   "metadata": {},
   "outputs": [],
   "source": [
    "import re\n",
    "\n",
    "# Transformation pipeline for lyrics\n",
    "def transform(text):\n",
    "    # Lowercase the entire text using casefold\n",
    "    text = text.casefold()\n",
    "    # Remove punctuation\n",
    "    text = remove_punctuation(text)\n",
    "    # Tokenize text using regex to split by word boundaries\n",
    "    tokens = re.findall(r'\\b\\w+\\b', text)\n",
    "    # Remove stopwords\n",
    "    tokens = remove_stop(tokens)\n",
    "    return tokens"
   ]
  },
  {
   "cell_type": "code",
   "execution_count": 124,
   "id": "926d370f",
   "metadata": {},
   "outputs": [
    {
     "name": "stdout",
     "output_type": "stream",
     "text": [
      "    artist                    song  \\\n",
      "0    robyn      robyn_includemeout   \n",
      "1    robyn          robyn_electric   \n",
      "2    robyn         robyn_beach2k20   \n",
      "3    robyn         robyn_lovekills   \n",
      "4    robyn       robyn_timemachine   \n",
      "..     ...                     ...   \n",
      "415   cher  cher_takeitfromtheboys   \n",
      "416   cher          cher_dreambaby   \n",
      "417   cher   cher_pleasedonttellme   \n",
      "418   cher     cher_ihopeyoufindit   \n",
      "419   cher       cher_classified1a   \n",
      "\n",
      "                                        cleaned_lyrics  \n",
      "0    [include, really, simple, single, pulse, repea...  \n",
      "1    [electric, electric, electric, natural, high, ...  \n",
      "2    [beach, 2k20, wanna, go, gonna, get, ok, call,...  \n",
      "3    [love, kills, youre, looking, love, get, heart...  \n",
      "4    [time, machine, hey, cant, believe, fit, threw...  \n",
      "..                                                 ...  \n",
      "415  [take, boys, scared, never, hard, keep, good, ...  \n",
      "416  [dream, baby, found, boy, hes, dream, baby, do...  \n",
      "417  [please, dont, tell, ya, shook, override, whyd...  \n",
      "418  [hope, find, clouds, arent, going, nowhere, da...  \n",
      "419  [classified, 1a, know, much, love, knew, surel...  \n",
      "\n",
      "[420 rows x 3 columns]\n"
     ]
    }
   ],
   "source": [
    "# Function to load lyrics data\n",
    "def load_lyrics_data(folder_path):\n",
    "    lyrics_data = {}\n",
    "    for artist_folder in os.listdir(folder_path):\n",
    "        artist_path = os.path.join(folder_path, artist_folder)\n",
    "        if os.path.isdir(artist_path):\n",
    "            lyrics_data[artist_folder] = {}\n",
    "            for file_name in os.listdir(artist_path):\n",
    "                song_title = file_name.split('.')[0]\n",
    "                with open(os.path.join(artist_path, file_name), 'r', encoding='utf-8') as file:\n",
    "                    lyrics_data[artist_folder][song_title] = file.read()\n",
    "    return lyrics_data\n",
    "\n",
    "#lyrics data location\n",
    "lyrics_folder = \"/Users/cfitzpatrick/Downloads/M1 Results/lyrics/\"\n",
    "lyrics_data = load_lyrics_data(lyrics_folder)\n",
    "\n",
    "# Flatten the lyrics data into a DataFrame \n",
    "lyrics_list = []\n",
    "for artist, songs in lyrics_data.items():\n",
    "    for song, lyrics in songs.items():\n",
    "        lyrics_list.append({'artist': artist, 'song': song, 'lyrics': lyrics})\n",
    "\n",
    "lyrics_df = pd.DataFrame(lyrics_list)\n",
    "\n",
    "# Clean the lyrics column\n",
    "lyrics_df['cleaned_lyrics'] = lyrics_df['lyrics'].apply(transform)\n",
    "\n",
    "# Print the cleaned lyrics for inspection\n",
    "print(lyrics_df[['artist', 'song', 'cleaned_lyrics']])\n"
   ]
  },
  {
   "cell_type": "markdown",
   "id": "f2dd0179",
   "metadata": {},
   "source": [
    "## Basic Descriptive Statistics\n",
    "\n",
    "Call your `descriptive_stats` function on both your lyrics data and your twitter data and for both artists (four total calls). "
   ]
  },
  {
   "cell_type": "code",
   "execution_count": 126,
   "id": "a326af50",
   "metadata": {},
   "outputs": [],
   "source": [
    "# descriptive statistics function\n",
    "def descriptive_stats(tokens_list, num_common=10):\n",
    "    # Flatten the list of lists into a single list of tokens\n",
    "    all_tokens = [token for sublist in tokens_list for token in sublist]\n",
    "    \n",
    "    # Calculate the stats we want\n",
    "    num_tokens = len(all_tokens)\n",
    "    unique_tokens = set(all_tokens)\n",
    "    num_unique_tokens = len(unique_tokens)\n",
    "    num_characters = sum(len(token) for token in all_tokens)\n",
    "    lexical_diversity = num_unique_tokens / num_tokens if num_tokens else 0\n",
    "    \n",
    "    # Get the most common tokens\n",
    "    most_common_tokens = Counter(all_tokens).most_common(num_common)\n",
    "    \n",
    "    # Print the statistics\n",
    "    print(f\"Number of tokens: {num_tokens}\")\n",
    "    print(f\"Number of unique tokens: {num_unique_tokens}\")\n",
    "    print(f\"Number of characters: {num_characters}\")\n",
    "    print(f\"Lexical diversity: {lexical_diversity:.2f}\")\n",
    "    print(f\"Most common tokens: {most_common_tokens}\")\n",
    "    \n",
    "    # Return the statistics as a list\n",
    "    return [num_tokens, num_unique_tokens, lexical_diversity, num_characters]\n"
   ]
  },
  {
   "cell_type": "markdown",
   "id": "7e64cbc7",
   "metadata": {},
   "source": [
    "### For Twitter"
   ]
  },
  {
   "cell_type": "code",
   "execution_count": 127,
   "id": "4b00a33d",
   "metadata": {},
   "outputs": [
    {
     "name": "stdout",
     "output_type": "stream",
     "text": [
      "Twitter Data (cher) Descriptive Stats:\n",
      "Number of tokens: 15327345\n",
      "Number of unique tokens: 1224069\n",
      "Number of characters: 90934128\n",
      "Lexical diversity: 0.08\n",
      "Most common tokens: [('love', 217449), ('im', 139831), ('️', 131875), ('life', 126418), ('music', 90024), ('de', 73084), ('follow', 63246), ('lover', 62278), ('like', 58737), ('mom', 55405)]\n",
      "[15327345, 1224069, 0.07986177645247758, 90934128]\n",
      "Twitter Data (robynkonichiwa) Descriptive Stats:\n",
      "Number of tokens: 1466362\n",
      "Number of unique tokens: 229673\n",
      "Number of characters: 8984097\n",
      "Lexical diversity: 0.16\n",
      "Most common tokens: [('music', 15345), ('love', 11820), ('️', 9804), ('im', 9096), ('och', 7923), ('life', 7555), ('de', 6395), ('follow', 5650), ('like', 4956), ('lover', 4877)]\n",
      "[1466362, 229673, 0.1566277631307958, 8984097]\n"
     ]
    }
   ],
   "source": [
    "\n",
    "# Call descriptive_stats for the cleaned Twitter descriptions\n",
    "for artist in descriptions_df['artist'].unique():\n",
    "    artist_descriptions = descriptions_df[descriptions_df['artist'] == artist]['cleaned_description'].tolist()\n",
    "    print(f\"Twitter Data ({artist}) Descriptive Stats:\")\n",
    "    twitter_stats = descriptive_stats(artist_descriptions)\n",
    "    print(twitter_stats)\n"
   ]
  },
  {
   "cell_type": "markdown",
   "id": "02d0e261",
   "metadata": {},
   "source": [
    "### For Lyrics"
   ]
  },
  {
   "cell_type": "code",
   "execution_count": 128,
   "id": "e8582967",
   "metadata": {},
   "outputs": [
    {
     "name": "stdout",
     "output_type": "stream",
     "text": [
      "Lyrics Data (robyn) Descriptive Stats:\n",
      "Number of tokens: 15276\n",
      "Number of unique tokens: 2167\n",
      "Number of characters: 73665\n",
      "Lexical diversity: 0.14\n",
      "Most common tokens: [('know', 308), ('dont', 301), ('im', 299), ('love', 275), ('got', 252), ('like', 232), ('baby', 222), ('youre', 169), ('never', 155), ('dance', 150)]\n",
      "[15276, 2167, 0.14185650693898927, 73665]\n",
      "Lyrics Data (cher) Descriptive Stats:\n",
      "Number of tokens: 35921\n",
      "Number of unique tokens: 3703\n",
      "Number of characters: 172588\n",
      "Lexical diversity: 0.10\n",
      "Most common tokens: [('love', 1004), ('im', 513), ('know', 486), ('dont', 440), ('youre', 333), ('time', 319), ('baby', 319), ('see', 308), ('oh', 306), ('one', 282)]\n",
      "[35921, 3703, 0.10308733053088723, 172588]\n"
     ]
    }
   ],
   "source": [
    "\n",
    "# Call descriptive_stats for the cleaned lyrics data\n",
    "for artist in lyrics_df['artist'].unique():\n",
    "    artist_lyrics = lyrics_df[lyrics_df['artist'] == artist]['cleaned_lyrics'].tolist()\n",
    "    print(f\"Lyrics Data ({artist}) Descriptive Stats:\")\n",
    "    lyrics_stats = descriptive_stats(artist_lyrics)\n",
    "    print(lyrics_stats)"
   ]
  },
  {
   "cell_type": "markdown",
   "id": "46294409",
   "metadata": {},
   "source": [
    "Q: How do you think the \"top 5 words\" would be different if we left stopwords in the data? \n",
    "\n",
    "A: I am sure if we included all the stop words, the top five words would probably be stop words like a, an, the, but, etc. These are so common in language that they would surely be the most prevelant. This would not give us much insight into the lyrics.\n",
    "\n",
    "---\n",
    "\n",
    "Q: What were your prior beliefs about the lexical diversity between the artists? Does the difference (or lack thereof) in lexical diversity between the artists conform to your prior beliefs? \n",
    "\n",
    "A: I have to say, I am very unfamiliar with both Cher and Robyn, I am not sure I could name a song of either one. But it is interesting that Robyn tends to have a higher lyrical diversity. They are both pop singers, but obviously Cher is a bit more famous, maybe her songs tend to be simpler and less complex? \n"
   ]
  },
  {
   "cell_type": "markdown",
   "id": "4d4e1ac1",
   "metadata": {},
   "source": [
    "\n",
    "## Specialty Statistics\n",
    "\n",
    "The descriptive statistics we have calculated are quite generic. You will now calculate a handful of statistics tailored to these data.\n",
    "\n",
    "1. Ten most common emojis by artist in the twitter descriptions.\n",
    "1. Ten most common hashtags by artist in the twitter descriptions.\n",
    "1. Five most common words in song titles by artist. \n",
    "1. For each artist, a histogram of song lengths (in terms of number of tokens) \n",
    "\n",
    "We can use the `emoji` library to help us identify emojis and you have been given a function to help you.\n"
   ]
  },
  {
   "cell_type": "code",
   "execution_count": 6,
   "id": "753a5a3e",
   "metadata": {},
   "outputs": [],
   "source": [
    "assert(emoji.is_emoji(\"❤️\"))\n",
    "assert(not emoji.is_emoji(\":-)\"))"
   ]
  },
  {
   "cell_type": "markdown",
   "id": "986fc4c0",
   "metadata": {},
   "source": [
    "### Emojis 😁\n",
    "\n",
    "What are the ten most common emojis by artist in the twitter descriptions? \n"
   ]
  },
  {
   "cell_type": "code",
   "execution_count": 129,
   "id": "269cd433",
   "metadata": {},
   "outputs": [
    {
     "name": "stdout",
     "output_type": "stream",
     "text": [
      "Most common emojis for cher: [('❤', 79223), ('🌈', 47549), ('♥', 33978), ('🏳', 33412), ('✨', 29468), ('💙', 21379), ('🏻', 20930), ('🌊', 20223), ('✌', 16773), ('💜', 16550)]\n",
      "Most common emojis for robynkonichiwa: [('❤', 4783), ('🌈', 4685), ('🏳', 3528), ('♥', 3103), ('✨', 2223), ('🏻', 1495), ('✌', 1189), ('🏼', 1139), ('♀', 836), ('💙', 809)]\n"
     ]
    }
   ],
   "source": [
    "# Your code here\n",
    "\n",
    "import emoji\n",
    "from collections import Counter\n",
    "\n",
    "# Extract the emojis from text\n",
    "def extract_emojis(text):\n",
    "    return [char for char in text if emoji.is_emoji(char)]\n",
    "\n",
    "# Ten most common\n",
    "def most_common_emojis(descriptions_df, num_common=10):\n",
    "    common_emojis = {}\n",
    "    for artist in descriptions_df['artist'].unique():\n",
    "        artist_descriptions = descriptions_df[descriptions_df['artist'] == artist]['description']\n",
    "        all_emojis = [emoji for desc in artist_descriptions for emoji in extract_emojis(desc)]\n",
    "        common_emojis[artist] = Counter(all_emojis).most_common(num_common)\n",
    "    return common_emojis\n",
    "\n",
    "# Get the ten most common emojis by artist\n",
    "common_emojis = most_common_emojis(descriptions_df)\n",
    "\n",
    "# Print the ten most common emojis by artist\n",
    "for artist, emojis in common_emojis.items():\n",
    "    print(f\"Most common emojis for {artist}: {emojis}\")\n"
   ]
  },
  {
   "cell_type": "markdown",
   "id": "bab9b770",
   "metadata": {},
   "source": [
    "### Hashtags\n",
    "\n",
    "What are the ten most common hashtags by artist in the twitter descriptions? \n"
   ]
  },
  {
   "cell_type": "code",
   "execution_count": 130,
   "id": "07c396f1",
   "metadata": {},
   "outputs": [
    {
     "name": "stdout",
     "output_type": "stream",
     "text": [
      "Most common hashtags for cher: [('#BLM', 9535), ('#Resist', 6036), ('#BlackLivesMatter', 4681), ('#resist', 3797), ('#FBR', 3239), ('#TheResistance', 2995), ('#blacklivesmatter', 2645), ('#1', 2627), ('#Resistance', 1919), ('#RESIST', 1823)]\n",
      "Most common hashtags for robynkonichiwa: [('#BlackLivesMatter', 337), ('#BLM', 306), ('#blacklivesmatter', 208), ('#1', 199), ('#music', 174), ('#Music', 113), ('#EDM', 86), ('#LGBTQ', 75), ('#TeamFollowBack', 59), ('#blm', 56)]\n"
     ]
    }
   ],
   "source": [
    "# Your code here\n",
    "\n",
    "# Get hashtags from the text\n",
    "def extract_hashtags(text):\n",
    "    return re.findall(r'#\\w+', text)\n",
    "\n",
    "# Ten most common hashtags\n",
    "def most_common_hashtags(descriptions_df, num_common=10):\n",
    "    common_hashtags = {}\n",
    "    for artist in descriptions_df['artist'].unique():\n",
    "        artist_descriptions = descriptions_df[descriptions_df['artist'] == artist]['description']\n",
    "        all_hashtags = [hashtag for desc in artist_descriptions for hashtag in extract_hashtags(desc)]\n",
    "        common_hashtags[artist] = Counter(all_hashtags).most_common(num_common)\n",
    "    return common_hashtags\n",
    "\n",
    "# Get the ten most common hashtags by artist\n",
    "common_hashtags = most_common_hashtags(descriptions_df)\n",
    "\n",
    "# Print the ten most common hashtags by artist\n",
    "for artist, hashtags in common_hashtags.items():\n",
    "    print(f\"Most common hashtags for {artist}: {hashtags}\")\n"
   ]
  },
  {
   "cell_type": "markdown",
   "id": "d10f21d5",
   "metadata": {},
   "source": [
    "### Song Titles\n",
    "\n",
    "What are the five most common words in song titles by artist? The song titles should be on the first line of the lyrics pages, so if you have kept the raw file contents around, you will not need to re-read the data.\n"
   ]
  },
  {
   "cell_type": "code",
   "execution_count": 136,
   "id": "bb69b36b",
   "metadata": {},
   "outputs": [
    {
     "name": "stdout",
     "output_type": "stream",
     "text": [
      "Song titles for robyn: ['\"Include Me Out\"', '\"Electric\"', '\"Beach 2K20\"', '\"Love Kills\"', '\"Time Machine\"']\n",
      "Song titles for cher: ['\"Come And Stay With Me\"', '\"Pirate\"', '\"Stars\"', '\"These Days\"', '\"Love So High\"']\n"
     ]
    }
   ],
   "source": [
    "# Get song titles from the first line of lyrics\n",
    "def extract_song_titles(lyrics_data):\n",
    "    song_titles = {}\n",
    "    for artist, songs in lyrics_data.items():\n",
    "        titles = []\n",
    "        for song, lyrics in songs.items():\n",
    "            first_line = lyrics.split('\\n')[0].strip()\n",
    "            titles.append(first_line)\n",
    "        song_titles[artist] = titles\n",
    "    return song_titles\n",
    "\n",
    "# Extract song titles from the lyrics data\n",
    "song_titles = extract_song_titles(lyrics_data)\n",
    "\n",
    "# Print \n",
    "for artist, titles in song_titles.items():\n",
    "    print(f\"Song titles for {artist}: {titles[:5]}\")  # Print the first 5 titles for inspection\n"
   ]
  },
  {
   "cell_type": "code",
   "execution_count": 137,
   "id": "c599cc04",
   "metadata": {},
   "outputs": [
    {
     "name": "stdout",
     "output_type": "stream",
     "text": [
      "Most common words in song titles for robyn: [('me', 11), ('you', 9), ('the', 8), ('my', 8), ('love', 6)]\n",
      "Most common words in song titles for cher: [('the', 54), ('you', 44), ('love', 38), ('i', 38), ('to', 28)]\n"
     ]
    }
   ],
   "source": [
    "# extract words from text\n",
    "def extract_words(text):\n",
    "    return re.findall(r'\\b\\w+\\b', text.casefold())\n",
    "\n",
    "# Five most common words in the song titles\n",
    "def most_common_words_in_titles(song_titles, num_common=5):\n",
    "    common_words = {}\n",
    "    for artist, titles in song_titles.items():\n",
    "        all_words = [word for title in titles for word in extract_words(title)]\n",
    "        common_words[artist] = Counter(all_words).most_common(num_common)\n",
    "    return common_words\n",
    "\n",
    "# Get the five most common words in song titles by artist\n",
    "common_words_in_titles = most_common_words_in_titles(song_titles)\n",
    "\n",
    "# Print them out\n",
    "for artist, words in common_words_in_titles.items():\n",
    "    print(f\"Most common words in song titles for {artist}: {words}\")\n"
   ]
  },
  {
   "cell_type": "markdown",
   "id": "5dd4fd71",
   "metadata": {},
   "source": [
    "### Song Lengths\n",
    "\n",
    "For each artist, a histogram of song lengths (in terms of number of tokens). If you put the song lengths in a data frame with an artist column, matplotlib will make the plotting quite easy. An example is given to help you out. \n"
   ]
  },
  {
   "cell_type": "code",
   "execution_count": 132,
   "id": "805a1e52",
   "metadata": {},
   "outputs": [
    {
     "data": {
      "text/plain": [
       "artist\n",
       "Artist 1    Axes(0.125,0.125;0.775x0.755)\n",
       "Artist 2    Axes(0.125,0.125;0.775x0.755)\n",
       "Name: length, dtype: object"
      ]
     },
     "execution_count": 132,
     "metadata": {},
     "output_type": "execute_result"
    },
    {
     "data": {
      "image/png": "[encoded data removed]",
      "text/plain": [
       "<Figure size 432x288 with 1 Axes>"
      ]
     },
     "metadata": {
      "needs_background": "light"
     },
     "output_type": "display_data"
    }
   ],
   "source": [
    "num_replicates = 1000\n",
    "\n",
    "df = pd.DataFrame({\n",
    "    \"artist\" : ['Artist 1'] * num_replicates + ['Artist 2']*num_replicates,\n",
    "    \"length\" : np.concatenate((np.random.poisson(125,num_replicates),np.random.poisson(150,num_replicates)))\n",
    "})\n",
    "\n",
    "df.groupby('artist')['length'].plot(kind=\"hist\",density=True,alpha=0.5,legend=True)"
   ]
  },
  {
   "cell_type": "markdown",
   "id": "8fde9ebb",
   "metadata": {},
   "source": [
    "Since the lyrics may be stored with carriage returns or tabs, it may be useful to have a function that can collapse whitespace, using regular expressions, and be used for splitting. \n",
    "\n",
    "Q: What does the regular expression `'\\s+'` match on? \n",
    "\n",
    "A: \\s+ matches whitespace characters, which can be spaces, tabs, newlines etc.  \n",
    "\n"
   ]
  },
  {
   "cell_type": "code",
   "execution_count": 141,
   "id": "f0e34516",
   "metadata": {},
   "outputs": [],
   "source": [
    "collapse_whitespace = re.compile(r'\\s+')\n",
    "\n",
    "def tokenize_lyrics(lyric) : \n",
    "    \"\"\"strip and split on whitespace\"\"\"\n",
    "    return([item.lower() for item in collapse_whitespace.split(lyric)])"
   ]
  },
  {
   "cell_type": "code",
   "execution_count": 143,
   "id": "2294c440",
   "metadata": {},
   "outputs": [
    {
     "name": "stdout",
     "output_type": "stream",
     "text": [
      "  artist                song  length\n",
      "0  robyn  robyn_includemeout     453\n",
      "1  robyn      robyn_electric     253\n",
      "2  robyn     robyn_beach2k20     291\n",
      "3  robyn     robyn_lovekills     413\n",
      "4  robyn   robyn_timemachine     233\n"
     ]
    },
    {
     "data": {
      "image/png": "[encoded data removed]",
      "text/plain": [
       "<Figure size 432x288 with 1 Axes>"
      ]
     },
     "metadata": {
      "needs_background": "light"
     },
     "output_type": "display_data"
    }
   ],
   "source": [
    "import re\n",
    "import pandas as pd\n",
    "import matplotlib.pyplot as plt\n",
    "\n",
    "# Compile a regex pattern for collapsing whitespace\n",
    "collapse_whitespace = re.compile(r'\\s+')\n",
    "\n",
    "# Function to tokenize lyrics by collapsing whitespace and splitting\n",
    "def tokenize_lyrics(lyric):\n",
    "    \"\"\"Strip and split on whitespace\"\"\"\n",
    "    return [item.lower() for item in collapse_whitespace.split(lyric.strip())]\n",
    "\n",
    "\n",
    "# Calculate song lengths in terms of number of tokens using the `tokenize_lyrics` function\n",
    "lyrics_df['length'] = lyrics_df['lyrics'].apply(lambda x: len(tokenize_lyrics(x)))\n",
    "\n",
    "# Print the song lengths DataFrame for inspection\n",
    "print(lyrics_df[['artist', 'song', 'length']].head())\n",
    "\n",
    "# Plot histogram of song lengths by artist\n",
    "lyrics_df.groupby('artist')['length'].plot(kind=\"hist\", density=True, alpha=0.5, legend=True)\n",
    "plt.xlabel('Number of Tokens')\n",
    "plt.ylabel('Density')\n",
    "plt.title('Histogram of Song Lengths by Artist')\n",
    "plt.show()\n",
    "\n"
   ]
  }
 ],
 "metadata": {
  "kernelspec": {
   "display_name": "Python 3 (ipykernel)",
   "language": "python",
   "name": "python3"
  },
  "language_info": {
   "codemirror_mode": {
    "name": "ipython",
    "version": 3
   },
   "file_extension": ".py",
   "mimetype": "text/x-python",
   "name": "python",
   "nbconvert_exporter": "python",
   "pygments_lexer": "ipython3",
   "version": "3.9.7"
  }
 },
 "nbformat": 4,
 "nbformat_minor": 5
}
